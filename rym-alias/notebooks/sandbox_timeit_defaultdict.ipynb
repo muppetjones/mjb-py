{
 "cells": [
  {
   "cell_type": "code",
   "execution_count": 1,
   "id": "b837da85-d26e-40c0-a89f-e9e95495eba5",
   "metadata": {
    "tags": []
   },
   "outputs": [],
   "source": [
    "%load_ext autoreload\n",
    "%autoreload 2"
   ]
  },
  {
   "cell_type": "code",
   "execution_count": 2,
   "id": "af98bef3-ee9b-4666-a049-b475a3ff91f8",
   "metadata": {
    "tags": []
   },
   "outputs": [],
   "source": [
    "import itertools\n",
    "from collections import defaultdict\n",
    "\n",
    "def incr_dict(x, k):\n",
    "    try:\n",
    "        x[k] += 1\n",
    "    except KeyError:\n",
    "        x[k] = 1\n",
    "        \n",
    "def incr_defaultdict(x, k):\n",
    "    x[k] += 1"
   ]
  },
  {
   "cell_type": "code",
   "execution_count": 4,
   "id": "198900f6-5c76-4b2f-a3b0-5302f18d821f",
   "metadata": {
    "tags": []
   },
   "outputs": [
    {
     "name": "stdout",
     "output_type": "stream",
     "text": [
      "130 ns ± 0.578 ns per loop (mean ± std. dev. of 7 runs, 10000000 loops each)\n"
     ]
    },
    {
     "data": {
      "text/plain": [
       "{'a': 8111112,\n",
       " 'b': 8111111,\n",
       " 'c': 8111111,\n",
       " 'd': 8111111,\n",
       " 'e': 8111111,\n",
       " 'f': 8111111,\n",
       " 'g': 8111111,\n",
       " 'h': 8111111,\n",
       " 'i': 8111111,\n",
       " 'j': 8111111}"
      ]
     },
     "execution_count": 4,
     "metadata": {},
     "output_type": "execute_result"
    }
   ],
   "source": [
    "#[pin]\n",
    "x = {}\n",
    "opts = itertools.cycle('abcdefghij')\n",
    "\n",
    "%timeit incr_dict(x, next(opts))\n",
    "x"
   ]
  },
  {
   "cell_type": "code",
   "execution_count": 5,
   "id": "53c986e4-dd8f-4521-a008-a9bfa58afca1",
   "metadata": {
    "tags": []
   },
   "outputs": [
    {
     "name": "stdout",
     "output_type": "stream",
     "text": [
      "126 ns ± 0.257 ns per loop (mean ± std. dev. of 7 runs, 10000000 loops each)\n"
     ]
    },
    {
     "data": {
      "text/plain": [
       "defaultdict(int,\n",
       "            {'a': 8111112,\n",
       "             'b': 8111111,\n",
       "             'c': 8111111,\n",
       "             'd': 8111111,\n",
       "             'e': 8111111,\n",
       "             'f': 8111111,\n",
       "             'g': 8111111,\n",
       "             'h': 8111111,\n",
       "             'i': 8111111,\n",
       "             'j': 8111111})"
      ]
     },
     "execution_count": 5,
     "metadata": {},
     "output_type": "execute_result"
    }
   ],
   "source": [
    "#[pin]\n",
    "x = defaultdict(int)\n",
    "opts = itertools.cycle('abcdefghij')\n",
    "\n",
    "%timeit incr_dict(x, next(opts))\n",
    "x"
   ]
  },
  {
   "cell_type": "code",
   "execution_count": 7,
   "id": "76449216-7673-4bfa-9f94-8b6cf75bba6c",
   "metadata": {
    "tags": []
   },
   "outputs": [
    {
     "name": "stdout",
     "output_type": "stream",
     "text": [
      "123 ns ± 0.272 ns per loop (mean ± std. dev. of 7 runs, 10000000 loops each)\n"
     ]
    },
    {
     "data": {
      "text/plain": [
       "defaultdict(int,\n",
       "            {'a': 8111112,\n",
       "             'b': 8111111,\n",
       "             'c': 8111111,\n",
       "             'd': 8111111,\n",
       "             'e': 8111111,\n",
       "             'f': 8111111,\n",
       "             'g': 8111111,\n",
       "             'h': 8111111,\n",
       "             'i': 8111111,\n",
       "             'j': 8111111})"
      ]
     },
     "execution_count": 7,
     "metadata": {},
     "output_type": "execute_result"
    }
   ],
   "source": [
    "#[pin]\n",
    "x = defaultdict(int)\n",
    "opts = itertools.cycle('abcdefghij')\n",
    "\n",
    "%timeit incr_defaultdict(x, next(opts))\n",
    "x"
   ]
  },
  {
   "cell_type": "code",
   "execution_count": null,
   "id": "fc93fcf9-64e4-4a2e-b7d1-0abd23108880",
   "metadata": {},
   "outputs": [],
   "source": []
  }
 ],
 "metadata": {
  "kernelspec": {
   "display_name": "Python 3 (ipykernel)",
   "language": "python",
   "name": "python3"
  },
  "language_info": {
   "codemirror_mode": {
    "name": "ipython",
    "version": 3
   },
   "file_extension": ".py",
   "mimetype": "text/x-python",
   "name": "python",
   "nbconvert_exporter": "python",
   "pygments_lexer": "ipython3",
   "version": "3.10.2"
  }
 },
 "nbformat": 4,
 "nbformat_minor": 5
}
