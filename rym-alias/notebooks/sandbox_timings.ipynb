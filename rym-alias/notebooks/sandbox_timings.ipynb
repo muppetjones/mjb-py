{
 "cells": [
  {
   "cell_type": "code",
   "execution_count": 1,
   "id": "da74316f-fd5f-4a0e-8866-422bdb9fb620",
   "metadata": {
    "tags": []
   },
   "outputs": [],
   "source": [
    "%load_ext autoreload\n",
    "%autoreload 2"
   ]
  },
  {
   "cell_type": "code",
   "execution_count": 8,
   "id": "f8dabcfb-b746-41f3-b960-0b109b6ae0ff",
   "metadata": {},
   "outputs": [],
   "source": [
    "import itertools\n",
    "import random\n",
    "from typing import Iterable\n",
    "\n",
    "def get_example_items(n:int = 3) -> Iterable[str]:\n",
    "    return list(itertools.combinations('abcdefghijklmnopqrstuvwxyz', n))\n",
    "\n",
    "\n",
    "data_list = get_example_items()\n",
    "data_tuple = tuple(get_example_items())\n",
    "data_pt = data_list[42]"
   ]
  },
  {
   "cell_type": "markdown",
   "id": "bdc0adf7-b7da-4bc3-9fa5-ab7fcb2fdd26",
   "metadata": {
    "tags": []
   },
   "source": [
    "#[pin]\n",
    "data = get_example_items()\n",
    "data_pt = data[42]\n",
    "\n",
    "%timeit data_pt in data\n",
    "%timeit 'zzzz' in data\n",
    "\n",
    "random.shuffle(data)\n",
    "\n",
    "%timeit data_pt in data\n",
    "%timeit 'zzzz' in data"
   ]
  },
  {
   "cell_type": "code",
   "execution_count": 12,
   "id": "4015690d-60cb-41e8-88c5-bd0ee9f8c711",
   "metadata": {
    "tags": []
   },
   "outputs": [
    {
     "name": "stdout",
     "output_type": "stream",
     "text": [
      "775 ns ± 0.448 ns per loop (mean ± std. dev. of 7 runs, 1000000 loops each)\n",
      "22.1 µs ± 22.7 ns per loop (mean ± std. dev. of 7 runs, 10000 loops each)\n",
      "24.3 µs ± 56.8 ns per loop (mean ± std. dev. of 7 runs, 10000 loops each)\n",
      "22.1 µs ± 20.2 ns per loop (mean ± std. dev. of 7 runs, 10000 loops each)\n"
     ]
    }
   ],
   "source": [
    "#[pin]\n",
    "data = tuple(get_example_items())\n",
    "data_pt = data[42]\n",
    "\n",
    "%timeit data_pt in data\n",
    "%timeit 'zzzz' in data\n",
    "\n",
    "data = list(data)\n",
    "random.shuffle(data)\n",
    "data = tuple(data)\n",
    "\n",
    "%timeit data_pt in data\n",
    "%timeit 'zzzz' in data"
   ]
  },
  {
   "cell_type": "code",
   "execution_count": 15,
   "id": "c16732f4-ae92-40d6-a3fb-18e7a3164c51",
   "metadata": {
    "tags": []
   },
   "outputs": [
    {
     "name": "stdout",
     "output_type": "stream",
     "text": [
      "41 ns ± 0.0175 ns per loop (mean ± std. dev. of 7 runs, 10000000 loops each)\n",
      "41 ns ± 0.0346 ns per loop (mean ± std. dev. of 7 runs, 10000000 loops each)\n",
      "74.4 ns ± 0.077 ns per loop (mean ± std. dev. of 7 runs, 10000000 loops each)\n",
      "147 ns ± 0.661 ns per loop (mean ± std. dev. of 7 runs, 10000000 loops each)\n"
     ]
    }
   ],
   "source": [
    "#[pin]\n",
    "data = get_example_items()\n",
    "data_pt = data[42]\n",
    "data = {k: 1 for k in data}\n",
    "\n",
    "%timeit data.get(data_pt)\n",
    "%timeit data.get(data_pt)\n",
    "\n",
    "def w_exc(d, k):\n",
    "    try:\n",
    "        d[k]\n",
    "    except KeyError:\n",
    "        ...\n",
    "\n",
    "%timeit w_exc(data, data_pt)\n",
    "%timeit w_exc(data, 'zzzz')\n"
   ]
  },
  {
   "cell_type": "code",
   "execution_count": null,
   "id": "aadb4c86-0c2a-4d9e-9d69-83f053a030b3",
   "metadata": {},
   "outputs": [],
   "source": []
  }
 ],
 "metadata": {
  "kernelspec": {
   "display_name": "Python 3 (ipykernel)",
   "language": "python",
   "name": "python3"
  },
  "language_info": {
   "codemirror_mode": {
    "name": "ipython",
    "version": 3
   },
   "file_extension": ".py",
   "mimetype": "text/x-python",
   "name": "python",
   "nbconvert_exporter": "python",
   "pygments_lexer": "ipython3",
   "version": "3.10.2"
  }
 },
 "nbformat": 4,
 "nbformat_minor": 5
}
