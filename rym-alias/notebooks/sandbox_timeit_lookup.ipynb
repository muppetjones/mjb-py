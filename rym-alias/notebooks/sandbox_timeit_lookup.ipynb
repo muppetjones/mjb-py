{
 "cells": [
  {
   "cell_type": "code",
   "execution_count": 1,
   "id": "da74316f-fd5f-4a0e-8866-422bdb9fb620",
   "metadata": {
    "tags": []
   },
   "outputs": [],
   "source": [
    "%load_ext autoreload\n",
    "%autoreload 2"
   ]
  },
  {
   "cell_type": "code",
   "execution_count": 1,
   "id": "f8dabcfb-b746-41f3-b960-0b109b6ae0ff",
   "metadata": {},
   "outputs": [],
   "source": [
    "import itertools\n",
    "import random\n",
    "from typing import Iterable\n",
    "\n",
    "def get_example_items(n:int = 3) -> Iterable[str]:\n",
    "    return list(itertools.combinations('abcdefghijklmnopqrstuvwxyz', n))"
   ]
  },
  {
   "cell_type": "code",
   "execution_count": 2,
   "id": "9156bd38-f398-4b6e-863d-bdcd0d715c88",
   "metadata": {
    "tags": []
   },
   "outputs": [
    {
     "name": "stdout",
     "output_type": "stream",
     "text": [
      "781 ns ± 2.87 ns per loop (mean ± std. dev. of 7 runs, 1000000 loops each)\n",
      "22.9 µs ± 51.3 ns per loop (mean ± std. dev. of 7 runs, 10000 loops each)\n",
      "11.4 µs ± 45.6 ns per loop (mean ± std. dev. of 7 runs, 100000 loops each)\n",
      "23.5 µs ± 16.1 ns per loop (mean ± std. dev. of 7 runs, 10000 loops each)\n"
     ]
    }
   ],
   "source": [
    "#[pin]\n",
    "data = get_example_items()\n",
    "data_pt = data[42]\n",
    "\n",
    "%timeit data_pt in data\n",
    "%timeit 'zzzz' in data\n",
    "\n",
    "random.shuffle(data)\n",
    "\n",
    "%timeit data_pt in data\n",
    "%timeit 'zzzz' in data"
   ]
  },
  {
   "cell_type": "code",
   "execution_count": 3,
   "id": "4015690d-60cb-41e8-88c5-bd0ee9f8c711",
   "metadata": {
    "tags": []
   },
   "outputs": [
    {
     "name": "stdout",
     "output_type": "stream",
     "text": [
      "778 ns ± 1.18 ns per loop (mean ± std. dev. of 7 runs, 1000000 loops each)\n",
      "22 µs ± 133 ns per loop (mean ± std. dev. of 7 runs, 10000 loops each)\n",
      "30.4 µs ± 522 ns per loop (mean ± std. dev. of 7 runs, 10000 loops each)\n",
      "22.3 µs ± 306 ns per loop (mean ± std. dev. of 7 runs, 10000 loops each)\n"
     ]
    }
   ],
   "source": [
    "#[pin]\n",
    "data = tuple(get_example_items())\n",
    "data_pt = data[42]\n",
    "\n",
    "%timeit data_pt in data\n",
    "%timeit 'zzzz' in data\n",
    "\n",
    "data = list(data)\n",
    "random.shuffle(data)\n",
    "data = tuple(data)\n",
    "\n",
    "%timeit data_pt in data\n",
    "%timeit 'zzzz' in data"
   ]
  },
  {
   "cell_type": "code",
   "execution_count": 4,
   "id": "c16732f4-ae92-40d6-a3fb-18e7a3164c51",
   "metadata": {
    "tags": []
   },
   "outputs": [
    {
     "name": "stdout",
     "output_type": "stream",
     "text": [
      "43.2 ns ± 0.107 ns per loop (mean ± std. dev. of 7 runs, 10000000 loops each)\n",
      "43.3 ns ± 0.127 ns per loop (mean ± std. dev. of 7 runs, 10000000 loops each)\n",
      "76 ns ± 0.23 ns per loop (mean ± std. dev. of 7 runs, 10000000 loops each)\n",
      "147 ns ± 0.944 ns per loop (mean ± std. dev. of 7 runs, 10000000 loops each)\n"
     ]
    }
   ],
   "source": [
    "#[pin]\n",
    "data = get_example_items()\n",
    "data_pt = data[42]\n",
    "data = {k: 1 for k in data}\n",
    "\n",
    "%timeit data.get(data_pt)\n",
    "%timeit data.get(data_pt)\n",
    "\n",
    "def w_exc(d, k):\n",
    "    try:\n",
    "        d[k]\n",
    "    except KeyError:\n",
    "        ...\n",
    "\n",
    "%timeit w_exc(data, data_pt)\n",
    "%timeit w_exc(data, 'zzzz')\n"
   ]
  },
  {
   "cell_type": "code",
   "execution_count": null,
   "id": "aadb4c86-0c2a-4d9e-9d69-83f053a030b3",
   "metadata": {},
   "outputs": [],
   "source": []
  }
 ],
 "metadata": {
  "kernelspec": {
   "display_name": "Python 3 (ipykernel)",
   "language": "python",
   "name": "python3"
  },
  "language_info": {
   "codemirror_mode": {
    "name": "ipython",
    "version": 3
   },
   "file_extension": ".py",
   "mimetype": "text/x-python",
   "name": "python",
   "nbconvert_exporter": "python",
   "pygments_lexer": "ipython3",
   "version": "3.10.2"
  }
 },
 "nbformat": 4,
 "nbformat_minor": 5
}
